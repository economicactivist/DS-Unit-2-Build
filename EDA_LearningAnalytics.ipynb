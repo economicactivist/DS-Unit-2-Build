{
  "nbformat": 4,
  "nbformat_minor": 0,
  "metadata": {
    "colab": {
      "name": "EDA_LearningAnalytics.ipynb",
      "provenance": [],
      "collapsed_sections": [],
      "mount_file_id": "1ZdBb7GEdvugZxi5o4o8_2WOp-gzWcLfb",
      "authorship_tag": "ABX9TyMmj+2anaD5VeZdqxwOGn+Z",
      "include_colab_link": true
    },
    "kernelspec": {
      "name": "python3",
      "display_name": "Python 3"
    }
  },
  "cells": [
    {
      "cell_type": "markdown",
      "metadata": {
        "id": "view-in-github",
        "colab_type": "text"
      },
      "source": [
        "<a href=\"https://colab.research.google.com/github/economicactivist/DS-Unit-2-Build/blob/master/EDA_LearningAnalytics.ipynb\" target=\"_parent\"><img src=\"https://colab.research.google.com/assets/colab-badge.svg\" alt=\"Open In Colab\"/></a>"
      ]
    },
    {
      "cell_type": "code",
      "metadata": {
        "id": "LEuofOAIqeIx",
        "colab_type": "code",
        "colab": {}
      },
      "source": [
        "import pandas as pd\n",
        "import numpy as np\n",
        "import matplotlib.pyplot as plt\n",
        "import seaborn as sns\n",
        "%matplotlib inline\n"
      ],
      "execution_count": 0,
      "outputs": []
    },
    {
      "cell_type": "code",
      "metadata": {
        "id": "2w9B7LaFq5ur",
        "colab_type": "code",
        "colab": {}
      },
      "source": [
        "df = pd.read_csv('/content/drive/My Drive/Datasets/Build_2/open_learning_analytics_kaggle.csv')"
      ],
      "execution_count": 0,
      "outputs": []
    },
    {
      "cell_type": "code",
      "metadata": {
        "id": "99iWC4dDujBj",
        "colab_type": "code",
        "outputId": "a2a0cc2d-9ffb-4071-915f-ad0b7616263a",
        "colab": {
          "base_uri": "https://localhost:8080/",
          "height": 343
        }
      },
      "source": [
        "df.head()"
      ],
      "execution_count": 6,
      "outputs": [
        {
          "output_type": "execute_result",
          "data": {
            "text/html": [
              "<div>\n",
              "<style scoped>\n",
              "    .dataframe tbody tr th:only-of-type {\n",
              "        vertical-align: middle;\n",
              "    }\n",
              "\n",
              "    .dataframe tbody tr th {\n",
              "        vertical-align: top;\n",
              "    }\n",
              "\n",
              "    .dataframe thead th {\n",
              "        text-align: right;\n",
              "    }\n",
              "</style>\n",
              "<table border=\"1\" class=\"dataframe\">\n",
              "  <thead>\n",
              "    <tr style=\"text-align: right;\">\n",
              "      <th></th>\n",
              "      <th>code_module</th>\n",
              "      <th>code_presentation</th>\n",
              "      <th>id_student</th>\n",
              "      <th>gender</th>\n",
              "      <th>region</th>\n",
              "      <th>highest_education</th>\n",
              "      <th>imd_band</th>\n",
              "      <th>age_band</th>\n",
              "      <th>num_of_prev_attempts</th>\n",
              "      <th>studied_credits</th>\n",
              "      <th>disability</th>\n",
              "      <th>final_result</th>\n",
              "      <th>date</th>\n",
              "      <th>sum_click</th>\n",
              "    </tr>\n",
              "  </thead>\n",
              "  <tbody>\n",
              "    <tr>\n",
              "      <th>0</th>\n",
              "      <td>BBB</td>\n",
              "      <td>2014J</td>\n",
              "      <td>645371</td>\n",
              "      <td>F</td>\n",
              "      <td>East Anglian Region</td>\n",
              "      <td>Lower Than A Level</td>\n",
              "      <td>50-60%</td>\n",
              "      <td>0-35</td>\n",
              "      <td>0</td>\n",
              "      <td>60</td>\n",
              "      <td>N</td>\n",
              "      <td>Fail</td>\n",
              "      <td>464.0</td>\n",
              "      <td>61.0</td>\n",
              "    </tr>\n",
              "    <tr>\n",
              "      <th>1</th>\n",
              "      <td>BBB</td>\n",
              "      <td>2013J</td>\n",
              "      <td>577069</td>\n",
              "      <td>F</td>\n",
              "      <td>London Region</td>\n",
              "      <td>HE Qualification</td>\n",
              "      <td>10-20</td>\n",
              "      <td>0-35</td>\n",
              "      <td>0</td>\n",
              "      <td>60</td>\n",
              "      <td>N</td>\n",
              "      <td>Pass</td>\n",
              "      <td>51312.0</td>\n",
              "      <td>1380.0</td>\n",
              "    </tr>\n",
              "    <tr>\n",
              "      <th>2</th>\n",
              "      <td>BBB</td>\n",
              "      <td>2014J</td>\n",
              "      <td>630697</td>\n",
              "      <td>F</td>\n",
              "      <td>East Anglian Region</td>\n",
              "      <td>A Level or Equivalent</td>\n",
              "      <td>20-30%</td>\n",
              "      <td>0-35</td>\n",
              "      <td>0</td>\n",
              "      <td>60</td>\n",
              "      <td>N</td>\n",
              "      <td>Pass</td>\n",
              "      <td>651.0</td>\n",
              "      <td>78.0</td>\n",
              "    </tr>\n",
              "    <tr>\n",
              "      <th>3</th>\n",
              "      <td>BBB</td>\n",
              "      <td>2014B</td>\n",
              "      <td>2271743</td>\n",
              "      <td>F</td>\n",
              "      <td>Wales</td>\n",
              "      <td>A Level or Equivalent</td>\n",
              "      <td>0-10%</td>\n",
              "      <td>0-35</td>\n",
              "      <td>2</td>\n",
              "      <td>180</td>\n",
              "      <td>Y</td>\n",
              "      <td>Fail</td>\n",
              "      <td>2800.0</td>\n",
              "      <td>206.0</td>\n",
              "    </tr>\n",
              "    <tr>\n",
              "      <th>4</th>\n",
              "      <td>AAA</td>\n",
              "      <td>2014J</td>\n",
              "      <td>348807</td>\n",
              "      <td>M</td>\n",
              "      <td>East Midlands Region</td>\n",
              "      <td>A Level or Equivalent</td>\n",
              "      <td>80-90%</td>\n",
              "      <td>35-55</td>\n",
              "      <td>0</td>\n",
              "      <td>60</td>\n",
              "      <td>N</td>\n",
              "      <td>Pass</td>\n",
              "      <td>12628.0</td>\n",
              "      <td>425.0</td>\n",
              "    </tr>\n",
              "  </tbody>\n",
              "</table>\n",
              "</div>"
            ],
            "text/plain": [
              "  code_module code_presentation  id_student  ... final_result     date sum_click\n",
              "0         BBB             2014J      645371  ...         Fail    464.0      61.0\n",
              "1         BBB             2013J      577069  ...         Pass  51312.0    1380.0\n",
              "2         BBB             2014J      630697  ...         Pass    651.0      78.0\n",
              "3         BBB             2014B     2271743  ...         Fail   2800.0     206.0\n",
              "4         AAA             2014J      348807  ...         Pass  12628.0     425.0\n",
              "\n",
              "[5 rows x 14 columns]"
            ]
          },
          "metadata": {
            "tags": []
          },
          "execution_count": 6
        }
      ]
    },
    {
      "cell_type": "code",
      "metadata": {
        "id": "jobT-FGcTgAt",
        "colab_type": "code",
        "colab": {
          "base_uri": "https://localhost:8080/",
          "height": 51
        },
        "outputId": "6799815b-8659-44ed-c6f0-51dad4ec5c9a"
      },
      "source": [
        "df.studied_credits.unique()"
      ],
      "execution_count": 29,
      "outputs": [
        {
          "output_type": "execute_result",
          "data": {
            "text/plain": [
              "array([ 60, 180,  90, 120, 325,  75, 150, 240, 270, 130, 330, 300, 165,\n",
              "       195, 210, 135,  70, 250, 105, 170, 420,  80, 225])"
            ]
          },
          "metadata": {
            "tags": []
          },
          "execution_count": 29
        }
      ]
    },
    {
      "cell_type": "code",
      "metadata": {
        "id": "y73Lu1chhcFQ",
        "colab_type": "code",
        "colab": {
          "base_uri": "https://localhost:8080/",
          "height": 85
        },
        "outputId": "276a5b97-e5da-4e1d-fbdc-f857d89b1ade"
      },
      "source": [
        "df.columns"
      ],
      "execution_count": 31,
      "outputs": [
        {
          "output_type": "execute_result",
          "data": {
            "text/plain": [
              "Index(['code_module', 'code_presentation', 'id_student', 'gender', 'region',\n",
              "       'highest_education', 'imd_band', 'age_band', 'num_of_prev_attempts',\n",
              "       'studied_credits', 'disability', 'final_result', 'date', 'sum_click'],\n",
              "      dtype='object')"
            ]
          },
          "metadata": {
            "tags": []
          },
          "execution_count": 31
        }
      ]
    },
    {
      "cell_type": "code",
      "metadata": {
        "id": "bM0_HaRtrzIQ",
        "colab_type": "code",
        "colab": {}
      },
      "source": [
        "gendered = df.groupby('gender').final_result.value_counts(normalize=True)"
      ],
      "execution_count": 0,
      "outputs": []
    },
    {
      "cell_type": "code",
      "metadata": {
        "id": "TapM7ORjvAVq",
        "colab_type": "code",
        "outputId": "26fe4e4b-4cfe-4f20-e533-ecb24892bdd5",
        "colab": {
          "base_uri": "https://localhost:8080/",
          "height": 332
        }
      },
      "source": [
        "df.groupby('gender').final_result.value_counts(normalize=True).plot(kind=\"bar\")"
      ],
      "execution_count": 9,
      "outputs": [
        {
          "output_type": "execute_result",
          "data": {
            "text/plain": [
              "<matplotlib.axes._subplots.AxesSubplot at 0x7fc4e74d0ac8>"
            ]
          },
          "metadata": {
            "tags": []
          },
          "execution_count": 9
        },
        {
          "output_type": "display_data",
          "data": {
            "image/png": "[encoded data removed]",
            "text/plain": [
              "<Figure size 432x288 with 1 Axes>"
            ]
          },
          "metadata": {
            "tags": []
          }
        }
      ]
    },
    {
      "cell_type": "code",
      "metadata": {
        "id": "u6PT1i57vv8m",
        "colab_type": "code",
        "outputId": "0a0c450a-24b4-497a-c7dc-f961541ba62b",
        "colab": {
          "base_uri": "https://localhost:8080/",
          "height": 221
        }
      },
      "source": [
        "df.groupby('gender').highest_education.value_counts(normalize=True)"
      ],
      "execution_count": 10,
      "outputs": [
        {
          "output_type": "execute_result",
          "data": {
            "text/plain": [
              "gender  highest_education          \n",
              "F       A Level or Equivalent          0.451528\n",
              "        Lower Than A Level             0.409634\n",
              "        HE Qualification               0.126897\n",
              "        No Formal quals                0.010119\n",
              "        Post Graduate Qualification    0.001821\n",
              "M       A Level or Equivalent          0.454918\n",
              "        Lower Than A Level             0.336066\n",
              "        HE Qualification               0.194672\n",
              "        Post Graduate Qualification    0.009221\n",
              "        No Formal quals                0.005123\n",
              "Name: highest_education, dtype: float64"
            ]
          },
          "metadata": {
            "tags": []
          },
          "execution_count": 10
        }
      ]
    },
    {
      "cell_type": "code",
      "metadata": {
        "id": "hNqLYh3pw2PX",
        "colab_type": "code",
        "outputId": "ebd25f17-bd4b-411d-ec38-b2ccb49c8c79",
        "colab": {
          "base_uri": "https://localhost:8080/",
          "height": 447
        }
      },
      "source": [
        "df.groupby('gender').highest_education.value_counts(normalize=True).plot(kind=\"bar\")"
      ],
      "execution_count": 11,
      "outputs": [
        {
          "output_type": "execute_result",
          "data": {
            "text/plain": [
              "<matplotlib.axes._subplots.AxesSubplot at 0x7fc4e746ff98>"
            ]
          },
          "metadata": {
            "tags": []
          },
          "execution_count": 11
        },
        {
          "output_type": "display_data",
          "data": {
            "image/png": "[encoded data removed]",
            "text/plain": [
              "<Figure size 432x288 with 1 Axes>"
            ]
          },
          "metadata": {
            "tags": []
          }
        }
      ]
    },
    {
      "cell_type": "code",
      "metadata": {
        "id": "qxuxsjwxlfMo",
        "colab_type": "code",
        "colab": {}
      },
      "source": [
        "z = df.groupby('gender').highest_education.value_counts(normalize=True).unstack().rename_axis(None)\n",
        "\n",
        "del z.columns.name\n",
        "\n"
      ],
      "execution_count": 0,
      "outputs": []
    },
    {
      "cell_type": "code",
      "metadata": {
        "id": "pr4jVzuDnhxC",
        "colab_type": "code",
        "colab": {}
      },
      "source": [
        "z = z.reset_index().rename(columns={'index':'gender'})"
      ],
      "execution_count": 0,
      "outputs": []
    },
    {
      "cell_type": "code",
      "metadata": {
        "id": "7EjoKnzvojK4",
        "colab_type": "code",
        "outputId": "4949d38f-bdea-4ddd-ba05-c4e11be41139",
        "colab": {
          "base_uri": "https://localhost:8080/",
          "height": 803
        }
      },
      "source": [
        "\n",
        "plt.figure(figsize=(20,20))\n",
        "\n",
        "z.iloc[:,1:].T.plot(kind=\"bar\", subplots=True, figsize=(20,10))"
      ],
      "execution_count": 14,
      "outputs": [
        {
          "output_type": "execute_result",
          "data": {
            "text/plain": [
              "array([<matplotlib.axes._subplots.AxesSubplot object at 0x7fc4e6f61240>,\n",
              "       <matplotlib.axes._subplots.AxesSubplot object at 0x7fc4e6f196a0>],\n",
              "      dtype=object)"
            ]
          },
          "metadata": {
            "tags": []
          },
          "execution_count": 14
        },
        {
          "output_type": "display_data",
          "data": {
            "text/plain": [
              "<Figure size 1440x1440 with 0 Axes>"
            ]
          },
          "metadata": {
            "tags": []
          }
        },
        {
          "output_type": "display_data",
          "data": {
            "image/png": "[encoded data removed]",
            "text/plain": [
              "<Figure size 1440x720 with 2 Axes>"
            ]
          },
          "metadata": {
            "tags": []
          }
        }
      ]
    },
    {
      "cell_type": "code",
      "metadata": {
        "id": "_9cLppSRvQOz",
        "colab_type": "code",
        "outputId": "e6fc9267-12cd-4a2d-e406-2c5eff87a8f6",
        "colab": {
          "base_uri": "https://localhost:8080/",
          "height": 458
        }
      },
      "source": [
        "# import seaborn as sns\n",
        "# sns.set(style=\"whitegrid\")\n",
        "\n",
        "# Draw a nested barplot to show survival for class and sex\n",
        "g = sns.catplot(x=\"gender\", y='Post Graduate Qualification',  data=z,\n",
        "                height=6, kind=\"bar\", palette=\"muted\")\n",
        "g.despine(left=True)\n",
        "g.set_ylabels(\"\")"
      ],
      "execution_count": 15,
      "outputs": [
        {
          "output_type": "execute_result",
          "data": {
            "text/plain": [
              "<seaborn.axisgrid.FacetGrid at 0x7fc4e6f61d30>"
            ]
          },
          "metadata": {
            "tags": []
          },
          "execution_count": 15
        },
        {
          "output_type": "display_data",
          "data": {
            "image/png": "[encoded data removed]",
            "text/plain": [
              "<Figure size 432x432 with 1 Axes>"
            ]
          },
          "metadata": {
            "tags": []
          }
        }
      ]
    },
    {
      "cell_type": "code",
      "metadata": {
        "id": "yzK8a-Avvlhl",
        "colab_type": "code",
        "outputId": "09471576-a3fc-422e-997c-696e2c09579c",
        "colab": {
          "base_uri": "https://localhost:8080/",
          "height": 68
        }
      },
      "source": [
        "z.columns"
      ],
      "execution_count": 16,
      "outputs": [
        {
          "output_type": "execute_result",
          "data": {
            "text/plain": [
              "Index(['gender', 'A Level or Equivalent', 'HE Qualification',\n",
              "       'Lower Than A Level', 'No Formal quals', 'Post Graduate Qualification'],\n",
              "      dtype='object')"
            ]
          },
          "metadata": {
            "tags": []
          },
          "execution_count": 16
        }
      ]
    },
    {
      "cell_type": "code",
      "metadata": {
        "id": "6M0oPrbip9fh",
        "colab_type": "code",
        "outputId": "a6d8a53e-9e42-4342-8a6c-9e81d6fb82b6",
        "colab": {
          "base_uri": "https://localhost:8080/",
          "height": 111
        }
      },
      "source": [
        "z"
      ],
      "execution_count": 17,
      "outputs": [
        {
          "output_type": "execute_result",
          "data": {
            "text/html": [
              "<div>\n",
              "<style scoped>\n",
              "    .dataframe tbody tr th:only-of-type {\n",
              "        vertical-align: middle;\n",
              "    }\n",
              "\n",
              "    .dataframe tbody tr th {\n",
              "        vertical-align: top;\n",
              "    }\n",
              "\n",
              "    .dataframe thead th {\n",
              "        text-align: right;\n",
              "    }\n",
              "</style>\n",
              "<table border=\"1\" class=\"dataframe\">\n",
              "  <thead>\n",
              "    <tr style=\"text-align: right;\">\n",
              "      <th></th>\n",
              "      <th>gender</th>\n",
              "      <th>A Level or Equivalent</th>\n",
              "      <th>HE Qualification</th>\n",
              "      <th>Lower Than A Level</th>\n",
              "      <th>No Formal quals</th>\n",
              "      <th>Post Graduate Qualification</th>\n",
              "    </tr>\n",
              "  </thead>\n",
              "  <tbody>\n",
              "    <tr>\n",
              "      <th>0</th>\n",
              "      <td>F</td>\n",
              "      <td>0.451528</td>\n",
              "      <td>0.126897</td>\n",
              "      <td>0.409634</td>\n",
              "      <td>0.010119</td>\n",
              "      <td>0.001821</td>\n",
              "    </tr>\n",
              "    <tr>\n",
              "      <th>1</th>\n",
              "      <td>M</td>\n",
              "      <td>0.454918</td>\n",
              "      <td>0.194672</td>\n",
              "      <td>0.336066</td>\n",
              "      <td>0.005123</td>\n",
              "      <td>0.009221</td>\n",
              "    </tr>\n",
              "  </tbody>\n",
              "</table>\n",
              "</div>"
            ],
            "text/plain": [
              "  gender  A Level or Equivalent  ...  No Formal quals  Post Graduate Qualification\n",
              "0      F               0.451528  ...         0.010119                     0.001821\n",
              "1      M               0.454918  ...         0.005123                     0.009221\n",
              "\n",
              "[2 rows x 6 columns]"
            ]
          },
          "metadata": {
            "tags": []
          },
          "execution_count": 17
        }
      ]
    },
    {
      "cell_type": "code",
      "metadata": {
        "id": "IswEgFc_s-vx",
        "colab_type": "code",
        "colab": {}
      },
      "source": [
        "# fig1, ax1 = plt.subplots()\n",
        "# z.columns.tolist()\n",
        "# ax1.pie(z, labels=labels, autopct='%1.1f%%',\n",
        "#         shadow=True, startangle=90)\n",
        "# # Equal aspect ratio ensures that pie is drawn as a circle\n",
        "# ax1.axis('equal')  \n",
        "# plt.tight_layout()\n",
        "# plt.show()"
      ],
      "execution_count": 0,
      "outputs": []
    },
    {
      "cell_type": "code",
      "metadata": {
        "id": "uZBnAQ5-xG3l",
        "colab_type": "code",
        "outputId": "bf3d7a51-9ff4-4435-dadb-0680bd243e2c",
        "colab": {
          "base_uri": "https://localhost:8080/",
          "height": 255
        }
      },
      "source": [
        "df.region.value_counts(normalize=True)"
      ],
      "execution_count": 19,
      "outputs": [
        {
          "output_type": "execute_result",
          "data": {
            "text/plain": [
              "Wales                   0.116106\n",
              "East Anglian Region     0.110191\n",
              "Scotland                0.101234\n",
              "South Region            0.085685\n",
              "London Region           0.081967\n",
              "West Midlands Region    0.077573\n",
              "South West Region       0.074362\n",
              "South East Region       0.069799\n",
              "East Midlands Region    0.068954\n",
              "Yorkshire Region        0.067602\n",
              "North Western Region    0.067095\n",
              "Ireland                 0.052729\n",
              "North Region            0.026703\n",
              "Name: region, dtype: float64"
            ]
          },
          "metadata": {
            "tags": []
          },
          "execution_count": 19
        }
      ]
    },
    {
      "cell_type": "code",
      "metadata": {
        "id": "ijRaP565xKGv",
        "colab_type": "code",
        "outputId": "9b190a93-efe3-4bc1-a1c3-91e329b30713",
        "colab": {
          "base_uri": "https://localhost:8080/",
          "height": 265
        }
      },
      "source": [
        "df.region.value_counts(normalize=True).plot(kind=\"pie\")"
      ],
      "execution_count": 20,
      "outputs": [
        {
          "output_type": "execute_result",
          "data": {
            "text/plain": [
              "<matplotlib.axes._subplots.AxesSubplot at 0x7fc4e45d1b38>"
            ]
          },
          "metadata": {
            "tags": []
          },
          "execution_count": 20
        },
        {
          "output_type": "display_data",
          "data": {
            "image/png": "[encoded data removed]",
            "text/plain": [
              "<Figure size 432x288 with 1 Axes>"
            ]
          },
          "metadata": {
            "tags": []
          }
        }
      ]
    },
    {
      "cell_type": "code",
      "metadata": {
        "id": "oquP-CGMxTYC",
        "colab_type": "code",
        "outputId": "92245bd5-3a1a-4aa8-84ec-c95da1f2790e",
        "colab": {
          "base_uri": "https://localhost:8080/",
          "height": 384
        }
      },
      "source": [
        "df.region.value_counts(normalize=True).plot(kind=\"bar\")"
      ],
      "execution_count": 21,
      "outputs": [
        {
          "output_type": "execute_result",
          "data": {
            "text/plain": [
              "<matplotlib.axes._subplots.AxesSubplot at 0x7fc4e6dfdcc0>"
            ]
          },
          "metadata": {
            "tags": []
          },
          "execution_count": 21
        },
        {
          "output_type": "display_data",
          "data": {
            "image/png": "[encoded data removed]",
            "text/plain": [
              "<Figure size 432x288 with 1 Axes>"
            ]
          },
          "metadata": {
            "tags": []
          }
        }
      ]
    },
    {
      "cell_type": "code",
      "metadata": {
        "id": "226RsznZxXfJ",
        "colab_type": "code",
        "outputId": "fe1c4b56-bf3c-4a6b-92cc-ae54a8e6842e",
        "colab": {
          "base_uri": "https://localhost:8080/",
          "height": 493
        }
      },
      "source": [
        "df.groupby('region').final_result.value_counts(normalize=True)"
      ],
      "execution_count": 22,
      "outputs": [
        {
          "output_type": "execute_result",
          "data": {
            "text/plain": [
              "region                final_result\n",
              "East Anglian Region   Pass            0.722393\n",
              "                      Fail            0.277607\n",
              "East Midlands Region  Pass            0.715686\n",
              "                      Fail            0.284314\n",
              "Ireland               Pass            0.753205\n",
              "                      Fail            0.246795\n",
              "London Region         Pass            0.624742\n",
              "                      Fail            0.375258\n",
              "North Region          Pass            0.689873\n",
              "                      Fail            0.310127\n",
              "North Western Region  Pass            0.602015\n",
              "                      Fail            0.397985\n",
              "Scotland              Pass            0.717863\n",
              "                      Fail            0.282137\n",
              "South East Region     Pass            0.852300\n",
              "                      Fail            0.147700\n",
              "South Region          Pass            0.786982\n",
              "                      Fail            0.213018\n",
              "South West Region     Pass            0.756818\n",
              "                      Fail            0.243182\n",
              "Wales                 Pass            0.656477\n",
              "                      Fail            0.343523\n",
              "West Midlands Region  Pass            0.708061\n",
              "                      Fail            0.291939\n",
              "Yorkshire Region      Pass            0.710000\n",
              "                      Fail            0.290000\n",
              "Name: final_result, dtype: float64"
            ]
          },
          "metadata": {
            "tags": []
          },
          "execution_count": 22
        }
      ]
    },
    {
      "cell_type": "markdown",
      "metadata": {
        "id": "wqonblYDx0v6",
        "colab_type": "text"
      },
      "source": [
        "###Come back to this"
      ]
    },
    {
      "cell_type": "code",
      "metadata": {
        "id": "9vUeMmUaxhHs",
        "colab_type": "code",
        "outputId": "8cca89b3-f734-4ab4-fd88-2c1bd706fa80",
        "colab": {
          "base_uri": "https://localhost:8080/",
          "height": 265
        }
      },
      "source": [
        "df.groupby('region').final_result.value_counts(normalize=True).plot(kind=\"pie\") "
      ],
      "execution_count": 23,
      "outputs": [
        {
          "output_type": "execute_result",
          "data": {
            "text/plain": [
              "<matplotlib.axes._subplots.AxesSubplot at 0x7fc4e32e95c0>"
            ]
          },
          "metadata": {
            "tags": []
          },
          "execution_count": 23
        },
        {
          "output_type": "display_data",
          "data": {
            "image/png": "[encoded data removed]",
            "text/plain": [
              "<Figure size 432x288 with 1 Axes>"
            ]
          },
          "metadata": {
            "tags": []
          }
        }
      ]
    },
    {
      "cell_type": "code",
      "metadata": {
        "id": "RtLggt2kx7eS",
        "colab_type": "code",
        "outputId": "6f91a5d6-47c2-4ab6-ac54-b87125064f45",
        "colab": {
          "base_uri": "https://localhost:8080/",
          "height": 625
        }
      },
      "source": [
        "corr = df.corr()\n",
        "fig, ax = plt.subplots(figsize=(10,10))\n",
        "ax = sns.heatmap(\n",
        "    corr, \n",
        "    vmin=-1, vmax=1, center=0,\n",
        "    cmap=sns.diverging_palette(20, 220, n=200),\n",
        "    square=True\n",
        ")\n",
        "ax.set_xticklabels(\n",
        "    ax.get_xticklabels(),\n",
        "    rotation=45,\n",
        "    horizontalalignment='right'\n",
        ");"
      ],
      "execution_count": 24,
      "outputs": [
        {
          "output_type": "display_data",
          "data": {
            "image/png": "[encoded data removed]",
            "text/plain": [
              "<Figure size 720x720 with 2 Axes>"
            ]
          },
          "metadata": {
            "tags": []
          }
        }
      ]
    },
    {
      "cell_type": "code",
      "metadata": {
        "id": "THUsGCjYzHwJ",
        "colab_type": "code",
        "outputId": "e60252c0-2c33-413e-c013-5085e732716e",
        "colab": {
          "base_uri": "https://localhost:8080/",
          "height": 204
        }
      },
      "source": [
        "df.corr()\n"
      ],
      "execution_count": 25,
      "outputs": [
        {
          "output_type": "execute_result",
          "data": {
            "text/html": [
              "<div>\n",
              "<style scoped>\n",
              "    .dataframe tbody tr th:only-of-type {\n",
              "        vertical-align: middle;\n",
              "    }\n",
              "\n",
              "    .dataframe tbody tr th {\n",
              "        vertical-align: top;\n",
              "    }\n",
              "\n",
              "    .dataframe thead th {\n",
              "        text-align: right;\n",
              "    }\n",
              "</style>\n",
              "<table border=\"1\" class=\"dataframe\">\n",
              "  <thead>\n",
              "    <tr style=\"text-align: right;\">\n",
              "      <th></th>\n",
              "      <th>id_student</th>\n",
              "      <th>num_of_prev_attempts</th>\n",
              "      <th>studied_credits</th>\n",
              "      <th>date</th>\n",
              "      <th>sum_click</th>\n",
              "    </tr>\n",
              "  </thead>\n",
              "  <tbody>\n",
              "    <tr>\n",
              "      <th>id_student</th>\n",
              "      <td>1.000000</td>\n",
              "      <td>0.001456</td>\n",
              "      <td>-0.004675</td>\n",
              "      <td>0.080400</td>\n",
              "      <td>0.077437</td>\n",
              "    </tr>\n",
              "    <tr>\n",
              "      <th>num_of_prev_attempts</th>\n",
              "      <td>0.001456</td>\n",
              "      <td>1.000000</td>\n",
              "      <td>0.177788</td>\n",
              "      <td>-0.077052</td>\n",
              "      <td>-0.076873</td>\n",
              "    </tr>\n",
              "    <tr>\n",
              "      <th>studied_credits</th>\n",
              "      <td>-0.004675</td>\n",
              "      <td>0.177788</td>\n",
              "      <td>1.000000</td>\n",
              "      <td>-0.010220</td>\n",
              "      <td>-0.035000</td>\n",
              "    </tr>\n",
              "    <tr>\n",
              "      <th>date</th>\n",
              "      <td>0.080400</td>\n",
              "      <td>-0.077052</td>\n",
              "      <td>-0.010220</td>\n",
              "      <td>1.000000</td>\n",
              "      <td>0.890215</td>\n",
              "    </tr>\n",
              "    <tr>\n",
              "      <th>sum_click</th>\n",
              "      <td>0.077437</td>\n",
              "      <td>-0.076873</td>\n",
              "      <td>-0.035000</td>\n",
              "      <td>0.890215</td>\n",
              "      <td>1.000000</td>\n",
              "    </tr>\n",
              "  </tbody>\n",
              "</table>\n",
              "</div>"
            ],
            "text/plain": [
              "                      id_student  num_of_prev_attempts  ...      date  sum_click\n",
              "id_student              1.000000              0.001456  ...  0.080400   0.077437\n",
              "num_of_prev_attempts    0.001456              1.000000  ... -0.077052  -0.076873\n",
              "studied_credits        -0.004675              0.177788  ... -0.010220  -0.035000\n",
              "date                    0.080400             -0.077052  ...  1.000000   0.890215\n",
              "sum_click               0.077437             -0.076873  ...  0.890215   1.000000\n",
              "\n",
              "[5 rows x 5 columns]"
            ]
          },
          "metadata": {
            "tags": []
          },
          "execution_count": 25
        }
      ]
    },
    {
      "cell_type": "markdown",
      "metadata": {
        "id": "PAEwEIkAyR2y",
        "colab_type": "text"
      },
      "source": [
        "###No strong correlations between continuous variables except for \"date\" and \"sum_click\".  \n",
        "\n",
        "\"date\" is the number of days since the start of the module-presentation.\n",
        "\"sum_click\" the number of times a student interacts with the material in a day.  Because I have already combined data for each student id, \"sum_click\" represents a cumulative sum.  \"date\" was already a cumulative sum, the data is not meaningfully altered in that the ratios between student \"date\" totals remain the same (thought the individual values are amplified by taking the cumulative of a cumulative total). \n",
        "\n",
        "The correlation between \"date\" and \"sum_click\" (pearson's r = .89) may be a trivial result of the fact that the longer you have been on a module-presentation, the more opportunities you have had to interact with it (by clicking on different items). "
      ]
    },
    {
      "cell_type": "code",
      "metadata": {
        "id": "Vy6O9PsY2DqY",
        "colab_type": "code",
        "outputId": "8cebb672-6fc8-4eff-8244-739721e40852",
        "colab": {
          "base_uri": "https://localhost:8080/",
          "height": 340
        }
      },
      "source": [
        "df.info()"
      ],
      "execution_count": 26,
      "outputs": [
        {
          "output_type": "stream",
          "text": [
            "<class 'pandas.core.frame.DataFrame'>\n",
            "RangeIndex: 5917 entries, 0 to 5916\n",
            "Data columns (total 14 columns):\n",
            "code_module             5917 non-null object\n",
            "code_presentation       5917 non-null object\n",
            "id_student              5917 non-null int64\n",
            "gender                  5917 non-null object\n",
            "region                  5917 non-null object\n",
            "highest_education       5917 non-null object\n",
            "imd_band                5917 non-null object\n",
            "age_band                5917 non-null object\n",
            "num_of_prev_attempts    5917 non-null int64\n",
            "studied_credits         5917 non-null int64\n",
            "disability              5917 non-null object\n",
            "final_result            5917 non-null object\n",
            "date                    5917 non-null float64\n",
            "sum_click               5917 non-null float64\n",
            "dtypes: float64(2), int64(3), object(9)\n",
            "memory usage: 647.3+ KB\n"
          ],
          "name": "stdout"
        }
      ]
    },
    {
      "cell_type": "code",
      "metadata": {
        "id": "z4tok4kr2FLN",
        "colab_type": "code",
        "colab": {}
      },
      "source": [
        "categorical_data = df.select_dtypes(exclude=\"number\").copy()"
      ],
      "execution_count": 0,
      "outputs": []
    },
    {
      "cell_type": "code",
      "metadata": {
        "id": "5FlGsuOp3Eo6",
        "colab_type": "code",
        "colab": {
          "base_uri": "https://localhost:8080/",
          "height": 317
        },
        "outputId": "df563391-db59-4227-fb28-a2a677c97508"
      },
      "source": [
        "#pip install dython #or\n",
        "#!pip install git+https://github.com/shakedzy/dython.git\n",
        "\n",
        "import dython.nominal as dynom"
      ],
      "execution_count": 28,
      "outputs": [
        {
          "output_type": "error",
          "ename": "ModuleNotFoundError",
          "evalue": "ignored",
          "traceback": [
            "\u001b[0;31m---------------------------------------------------------------------------\u001b[0m",
            "\u001b[0;31mModuleNotFoundError\u001b[0m                       Traceback (most recent call last)",
            "\u001b[0;32m<ipython-input-28-ce7fca5d0343>\u001b[0m in \u001b[0;36m<module>\u001b[0;34m()\u001b[0m\n\u001b[1;32m      1\u001b[0m \u001b[0;34m\u001b[0m\u001b[0m\n\u001b[0;32m----> 2\u001b[0;31m \u001b[0;32mimport\u001b[0m \u001b[0mdython\u001b[0m\u001b[0;34m.\u001b[0m\u001b[0mnominal\u001b[0m \u001b[0;32mas\u001b[0m \u001b[0mdynom\u001b[0m\u001b[0;34m\u001b[0m\u001b[0;34m\u001b[0m\u001b[0m\n\u001b[0m",
            "\u001b[0;31mModuleNotFoundError\u001b[0m: No module named 'dython'",
            "",
            "\u001b[0;31m---------------------------------------------------------------------------\u001b[0;32m\nNOTE: If your import is failing due to a missing package, you can\nmanually install dependencies using either !pip or !apt.\n\nTo view examples of installing some common dependencies, click the\n\"Open Examples\" button below.\n\u001b[0;31m---------------------------------------------------------------------------\u001b[0m\n"
          ]
        }
      ]
    },
    {
      "cell_type": "code",
      "metadata": {
        "id": "HWGvQbE_17-p",
        "colab_type": "code",
        "colab": {}
      },
      "source": [
        "fig, ax = plt.subplots(figsize=(8,8))\n",
        "\n",
        "dynom.associations(categorical_data, theil_u=True, ax=ax) \n",
        "#switch theil_u to \"True\" if you don't want to use Cramer's V\n"
      ],
      "execution_count": 0,
      "outputs": []
    },
    {
      "cell_type": "code",
      "metadata": {
        "id": "1qmOrVwI2ehc",
        "colab_type": "code",
        "colab": {}
      },
      "source": [
        "fig, ax = plt.subplots(figsize=(8,8))\n",
        "\n",
        "dynom.associations(categorical_data, theil_u=False, ax=ax) "
      ],
      "execution_count": 0,
      "outputs": []
    },
    {
      "cell_type": "markdown",
      "metadata": {
        "id": "_jlVURl88qJJ",
        "colab_type": "text"
      },
      "source": [
        "###All categorical associations are below .5, so no strong associations at first glance.  The association between \"code_module\" and \"gender\" is relatively high, but this can be explained by a significant gender imbalance in one of the modules.  Specifically, module BBB is around 88% Female. \n",
        "\n",
        "It is also interesting to note that socioeconomic level and disability do not appear to be closely associated with a pass or fail. "
      ]
    },
    {
      "cell_type": "markdown",
      "metadata": {
        "id": "Ksa30stC33ep",
        "colab_type": "text"
      },
      "source": [
        ""
      ]
    },
    {
      "cell_type": "code",
      "metadata": {
        "id": "7GQR7XJK36ZM",
        "colab_type": "code",
        "colab": {}
      },
      "source": [
        "df.groupby('code_module').gender.value_counts(normalize=True)"
      ],
      "execution_count": 0,
      "outputs": []
    },
    {
      "cell_type": "code",
      "metadata": {
        "id": "FU31W9U64aYt",
        "colab_type": "code",
        "colab": {}
      },
      "source": [
        "df.query(\"code_module == 'BBB'\").groupby('code_module').gender.value_counts(normalize=True).plot(kind='pie')"
      ],
      "execution_count": 0,
      "outputs": []
    },
    {
      "cell_type": "code",
      "metadata": {
        "id": "-k-6IHrE4JOn",
        "colab_type": "code",
        "colab": {}
      },
      "source": [
        "df.query(\"code_module == 'AAA'\").groupby('code_module').gender.value_counts(normalize=True).plot(kind='pie')\n"
      ],
      "execution_count": 0,
      "outputs": []
    },
    {
      "cell_type": "code",
      "metadata": {
        "id": "PAtxP1Wi_9hQ",
        "colab_type": "code",
        "colab": {}
      },
      "source": [
        "numerical_data = df.select_dtypes(exclude=object)"
      ],
      "execution_count": 0,
      "outputs": []
    },
    {
      "cell_type": "code",
      "metadata": {
        "id": "6yGBn9f2AZP0",
        "colab_type": "code",
        "colab": {}
      },
      "source": [
        "numerical_data.info()"
      ],
      "execution_count": 0,
      "outputs": []
    },
    {
      "cell_type": "code",
      "metadata": {
        "id": "D2aZM9QPAKFU",
        "colab_type": "code",
        "colab": {}
      },
      "source": [
        "\n",
        "\"\"\"\n",
        "#The correlation ratio answers the question:\n",
        "Given a continuous number, how well can you know to which category it is associated?* \n",
        "(Zychlinski, 2018 [paraphrased]\n",
        "\"\"\"\n",
        "\n",
        "def dataframe_corr_ratio(cat_data,num_data):\n",
        "  ratio_list = []\n",
        "  ratio_names = []\n",
        "  for i in range(len(cat_data.T)):\n",
        "    for j in range(len(num_data.T)):\n",
        "      new_ratio = dynom.correlation_ratio(cat_data.iloc[:,i], num_data.iloc[:,j])\n",
        "      new_name =  num_data.iloc[:,j].name +  \" ⟶ \" + cat_data.iloc[:,i].name \n",
        "      ratio_list.append(new_ratio)\n",
        "      ratio_names.append(new_name)\n",
        "  zipped_ratios = list(zip(ratio_names, ratio_list))\n",
        "  corr_ratio_df = pd.DataFrame(zipped_ratios, columns=[\"(Asymmetric) Association of Variables\", \"Ratio\"])\n",
        "  return corr_ratio_df.sort_values(\"Ratio\", ascending=False).nlargest(10, columns=\"Ratio\").reset_index(drop=True)"
      ],
      "execution_count": 0,
      "outputs": []
    },
    {
      "cell_type": "code",
      "metadata": {
        "id": "sfQXJdPMAijT",
        "colab_type": "code",
        "colab": {}
      },
      "source": [
        "dataframe_corr_ratio(categorical_data, numerical_data)"
      ],
      "execution_count": 0,
      "outputs": []
    },
    {
      "cell_type": "markdown",
      "metadata": {
        "id": "IikUNuknBqTO",
        "colab_type": "text"
      },
      "source": [
        "###The correlation ratio reveals that the continuous variables concerning\n",
        "\n",
        "1.   the number days spent on the module-presentation,\n",
        "2.   the number of clicks in VLE,  and\n",
        "3.   the student id \n",
        "\n",
        "###provide the most information about their association with specific categorical variables.\n",
        "\n",
        "Regarding id_student's association with age ranges and code_modules, these associations <b>may support not dropping</b> the column even though it has high cardinality. \n",
        "\n",
        "[link text](https://)\n",
        "\n"
      ]
    }
  ]
}